{
  "nbformat": 4,
  "nbformat_minor": 0,
  "metadata": {
    "colab": {
      "name": "Web scraping Python",
      "provenance": [],
      "collapsed_sections": [],
      "authorship_tag": "ABX9TyOaEYLlu8kTAZbtGzaezkpa",
      "include_colab_link": true
    },
    "kernelspec": {
      "name": "python3",
      "display_name": "Python 3"
    },
    "language_info": {
      "name": "python"
    }
  },
  "cells": [
    {
      "cell_type": "markdown",
      "metadata": {
        "id": "view-in-github",
        "colab_type": "text"
      },
      "source": [
        "<a href=\"https://colab.research.google.com/github/Ishita-10/DarkCoders/blob/main/Web_scraping_Python.ipynb\" target=\"_parent\"><img src=\"https://colab.research.google.com/assets/colab-badge.svg\" alt=\"Open In Colab\"/></a>"
      ]
    },
    {
      "cell_type": "markdown",
      "source": [
        ""
      ],
      "metadata": {
        "id": "1Tw9Qoe-roX-"
      }
    },
    {
      "cell_type": "markdown",
      "source": [
        "# **WEB SCRAPING**"
      ],
      "metadata": {
        "id": "EjCJc80trqgS"
      }
    },
    {
      "cell_type": "markdown",
      "source": [
        "**AUTHORS :**\n",
        "[Ishita Agarwal | ](https://github.com/Ishita-10)\n",
        "[Harshita Seth | ](https://github.com/Harshitaa-18)\n",
        "[Vridhi Puri](https://https://github.com/vridhipuri)\n"
      ],
      "metadata": {
        "id": "OkZUnH1Pr4nU"
      }
    },
    {
      "cell_type": "markdown",
      "source": [
        "We will be extracting data from the most widely known product websie of India [ Tupperware India](https://www.tupperwareindia.com/) using python"
      ],
      "metadata": {
        "id": "CZ-GbpX7vo85"
      }
    },
    {
      "cell_type": "code",
      "source": [
        "#importing urllib and then using urlopen() to open the url\n",
        "import urllib.request\n",
        "\n",
        "weburl= urllib.request.urlopen('https://www.tupperwareindia.com/')\n",
        "\n",
        "print(\"result code:\" +str(weburl.getcode()))\n",
        "#Next, we going to print the result code\n",
        "#Result code is retrieved by calling the getcode function on the webUrl variable we have created,the HTTP code “200”, indicates that the http request is processed successfully\n"
      ],
      "metadata": {
        "colab": {
          "base_uri": "https://localhost:8080/"
        },
        "id": "vku53Ebh1XKZ",
        "outputId": "bf0212b0-eebb-448b-a6c0-ebca1be70582"
      },
      "execution_count": null,
      "outputs": [
        {
          "output_type": "stream",
          "name": "stdout",
          "text": [
            "result code:200\n"
          ]
        }
      ]
    },
    {
      "cell_type": "code",
      "source": [
        "#Getting the contents of the following URL using requests module\n",
        "import requests\n",
        "\n",
        "res = requests.get('https://www.tupperwareindia.com/')\n",
        "\n",
        "print(res.text)\n",
        "print(res.status_code)\n"
      ],
      "metadata": {
        "id": "DBvmfJNWx1W5"
      },
      "execution_count": null,
      "outputs": []
    },
    {
      "cell_type": "code",
      "source": [
        "#using library called BeautifulSoup in Python to do web scraping, BeautifulSoup can parse anything on the web you give it\n",
        "import requests\n",
        "from bs4 import BeautifulSoup\n",
        "\n",
        "weburl = requests.get(\"https://www.tupperwareindia.com/index\")\n",
        "\n",
        "\n",
        "#Parsing the HTML from our url into the BeautifulSoup library parse tree format\n",
        "soup = BeautifulSoup(weburl.content, 'html.parser')\n",
        "\n",
        "# Extract title of page\n",
        "page_title = soup.title.text\n",
        "\n",
        "#page_title = soup.title\n",
        "print(page_title)\n",
        "\n",
        "\n",
        "\n"
      ],
      "metadata": {
        "id": "4qaXHMoD0Ha9",
        "colab": {
          "base_uri": "https://localhost:8080/"
        },
        "outputId": "90b036bd-e489-4854-aaa6-d5515289b09f"
      },
      "execution_count": 11,
      "outputs": [
        {
          "output_type": "stream",
          "name": "stdout",
          "text": [
            "Tupperware\n"
          ]
        }
      ]
    },
    {
      "cell_type": "code",
      "source": [
        "# Extracting body of page\n",
        "page_body = soup.body\n",
        "print(page_body)\n",
        "\n",
        "\n"
      ],
      "metadata": {
        "id": "hbbFe4HsHBS4"
      },
      "execution_count": null,
      "outputs": []
    },
    {
      "cell_type": "code",
      "source": [
        "from bs4 import BeautifulSoup\n",
        "\n",
        "# Extract head of page\n",
        "page_head = soup.head\n",
        "print(page_head)\n"
      ],
      "metadata": {
        "id": "DH4oG5fFHw07"
      },
      "execution_count": null,
      "outputs": []
    },
    {
      "cell_type": "code",
      "source": [
        "import  requests\n",
        "from bs4 import BeautifulSoup\n",
        "weburl = requests.get(\"https://www.tupperwareindia.com/index\")\n",
        "\n",
        "soup = BeautifulSoup(weburl.content, 'html.parser')\n",
        "\n",
        "# Create top_items as empty list\n",
        "all_links = []\n",
        "\n",
        "# Extract and store in top_items according to instructions on the left\n",
        "links = soup.select('a')\n",
        "for ahref in links:\n",
        "    text = ahref.text\n",
        "    text = text.strip() if text is not None else ''\n",
        "\n",
        "    href = ahref.get('href')\n",
        "    href = href.strip() if href is not None else ''\n",
        "    all_links.append({\"href\": href, \"text\": text})\n",
        "\n",
        "print(all_links)"
      ],
      "metadata": {
        "colab": {
          "base_uri": "https://localhost:8080/"
        },
        "id": "mOzjZSGl1iFg",
        "outputId": "a81d4a1e-f4e2-4625-cc87-02dcd3ee2575"
      },
      "execution_count": 8,
      "outputs": [
        {
          "output_type": "stream",
          "name": "stdout",
          "text": [
            "[{'href': 'javascript:void(0)', 'text': 'Close'}, {'href': '/about-tupperware-india', 'text': 'About us'}, {'href': '/about-tupperware-india/about-tupperwareindia', 'text': 'The Beginning'}, {'href': '/about-tupperware-india/tupperware-india-team', 'text': 'Leadership Team'}, {'href': '/about-tupperware-india/awards-and-accolades', 'text': 'Awards & Accolades'}, {'href': '/about-tupperware-india/csr', 'text': 'CSR'}, {'href': '/about-tupperware-india/news', 'text': 'Tupperware in the News'}, {'href': '/about-tupperware-india/corporate-documents', 'text': 'Corporate Documents'}, {'href': '/about-tupperware-india/customer-policies', 'text': 'Customer Policies'}, {'href': '/products', 'text': 'Product Delight'}, {'href': '/products/latest-launch', 'text': 'New Arrivals'}, {'href': '/products/tupperware-kitchen-expert', 'text': 'Kitchen Expert'}, {'href': '/products/why-tupperware', 'text': 'Why Tupperware®'}, {'href': '/products/faq-tupperware-solutions', 'text': 'FAQs - Tupperware Solutions'}, {'href': '/products/catalogue', 'text': 'Catalogue'}, {'href': '/products/tupperware-brochure', 'text': 'Consumer Brochure'}, {'href': '/products/recipes', 'text': 'Delicious Recipes'}, {'href': '/buy-tupperware', 'text': 'Buy Tupperware® Products'}, {'href': '/buy-tupperware/locate-a-direct-seller', 'text': 'Locate a Direct Seller'}, {'href': '/buy-tupperware/locate-a-tupperware-store', 'text': 'Locate a Tupperware Store'}, {'href': '/buy-tupperware/find-a-homeshop', 'text': 'Locate a HomeShop'}, {'href': '/buy-tupperware/shop-tupperware-online', 'text': 'Shop Tupperware Online'}, {'href': '/buy-tupperware/corporate-gifting-solutions', 'text': 'Corporate Gifting Solutions'}, {'href': '/business-opportunity', 'text': 'Business Opportunity'}, {'href': '/business-opportunity/become-a-direct-seller', 'text': 'Become a Direct Seller'}, {'href': '/business-opportunity/social-selling', 'text': 'Social Selling'}, {'href': '/business-opportunity/franchise-enquiry', 'text': 'Become a Store Franchisee'}, {'href': '/business-opportunity/become-a-direct-selling-distributor', 'text': 'Become a Direct Selling Distributor'}, {'href': '/business-opportunity/join-tupperware-now', 'text': 'Join Tupperware® Team'}, {'href': '/business-opportunity/tupperware-faqs', 'text': 'Tupperware® Opportunity FAQs'}, {'href': '/choose-good-every-day', 'text': 'Choose Good Every Day'}, {'href': '/contact-us', 'text': 'Contact Us'}, {'href': '/contact-us/careers', 'text': 'Careers'}, {'href': '/contact-us/institutional-sales', 'text': 'Institutional Sales'}, {'href': '/contact-us/feedback', 'text': 'Feedback'}, {'href': 'javascript:void(0)', 'text': 'Login'}, {'href': '/index', 'text': ''}, {'href': '/about-tupperware-india', 'text': 'About us'}, {'href': '/about-tupperware-india/about-tupperwareindia', 'text': 'The Beginning'}, {'href': '/about-tupperware-india/tupperware-india-team', 'text': 'Leadership Team'}, {'href': '/about-tupperware-india/awards-and-accolades', 'text': 'Awards & Accolades'}, {'href': '/about-tupperware-india/csr', 'text': 'CSR'}, {'href': '/about-tupperware-india/news', 'text': 'Tupperware in the News'}, {'href': '/about-tupperware-india/corporate-documents', 'text': 'Corporate Documents'}, {'href': '/about-tupperware-india/customer-policies', 'text': 'Customer Policies'}, {'href': '/products', 'text': 'Product Delight'}, {'href': '/products/latest-launch', 'text': 'New Arrivals'}, {'href': '/products/tupperware-kitchen-expert', 'text': 'Kitchen Expert'}, {'href': '/products/why-tupperware', 'text': 'Why Tupperware®'}, {'href': '/products/faq-tupperware-solutions', 'text': 'FAQs - Tupperware Solutions'}, {'href': '/products/catalogue', 'text': 'Catalogue'}, {'href': '/products/tupperware-brochure', 'text': 'Consumer Brochure'}, {'href': '/products/recipes', 'text': 'Delicious Recipes'}, {'href': '/buy-tupperware', 'text': 'Buy Tupperware® Products'}, {'href': '/buy-tupperware/locate-a-direct-seller', 'text': 'Locate a Direct Seller'}, {'href': '/buy-tupperware/locate-a-tupperware-store', 'text': 'Locate a Tupperware Store'}, {'href': '/buy-tupperware/find-a-homeshop', 'text': 'Locate a HomeShop'}, {'href': '/buy-tupperware/shop-tupperware-online', 'text': 'Shop Tupperware Online'}, {'href': '/buy-tupperware/corporate-gifting-solutions', 'text': 'Corporate Gifting Solutions'}, {'href': '/business-opportunity', 'text': 'Business Opportunity'}, {'href': '/business-opportunity/become-a-direct-seller', 'text': 'Become a Direct Seller'}, {'href': '/business-opportunity/social-selling', 'text': 'Social Selling'}, {'href': '/business-opportunity/franchise-enquiry', 'text': 'Become a Store Franchisee'}, {'href': '/business-opportunity/become-a-direct-selling-distributor', 'text': 'Become a Direct Selling Distributor'}, {'href': '/business-opportunity/join-tupperware-now', 'text': 'Join Tupperware® Team'}, {'href': '/business-opportunity/tupperware-faqs', 'text': 'Tupperware® Opportunity FAQs'}, {'href': '/choose-good-every-day', 'text': 'Choose Good Every Day'}, {'href': '/contact-us', 'text': 'Contact Us'}, {'href': '/contact-us/careers', 'text': 'Careers'}, {'href': '/contact-us/institutional-sales', 'text': 'Institutional Sales'}, {'href': '/contact-us/feedback', 'text': 'Feedback'}, {'href': 'javascript:void(0)', 'text': 'Start search'}, {'href': 'javascript:void(0)', 'text': 'Close'}, {'href': 'https://www.tupperwareindia.com/buy-tupperware', 'text': ''}, {'href': '/products/tupperware-brochure', 'text': ''}, {'href': 'https://www.tupperwareindia.com/buy-tupperware/locate-tupperware-store', 'text': ''}, {'href': 'https://shoptupperware.in/', 'text': ''}, {'href': 'https://www.tupperwareindia.com/business-opportunity', 'text': ''}, {'href': 'https://www.tupperwareindia.com/choose-good-every-day', 'text': ''}, {'href': 'https://www.tupperwareindia.com/buy-tupperware/locate-a-direct-seller', 'text': ''}, {'href': 'https://www.tupperwareindia.com/business-opportunity', 'text': ''}, {'href': '/products/tupperware-products-range', 'text': ''}, {'href': '/products/latest-launch', 'text': ''}, {'href': '/products/tupperware-products-range', 'text': ''}, {'href': '/about-tupperware-india', 'text': 'About us'}, {'href': '/about-tupperware-india/about-tupperwareindia', 'text': 'The Beginning'}, {'href': '/about-tupperware-india/tupperware-india-team', 'text': 'Leadership Team'}, {'href': '/about-tupperware-india/awards-and-accolades', 'text': 'Awards & Accolades'}, {'href': '/about-tupperware-india/csr', 'text': 'CSR'}, {'href': '/about-tupperware-india/news', 'text': 'Tupperware in the News'}, {'href': '/about-tupperware-india/corporate-documents', 'text': 'Corporate Documents'}, {'href': '/about-tupperware-india/customer-policies', 'text': 'Customer Policies'}, {'href': '/products', 'text': 'Product Delight'}, {'href': '/products/latest-launch', 'text': 'New Arrivals'}, {'href': '/products/tupperware-kitchen-expert', 'text': 'Kitchen Expert'}, {'href': '/products/why-tupperware', 'text': 'Why Tupperware®'}, {'href': '/products/faq-tupperware-solutions', 'text': 'FAQs - Tupperware Solutions'}, {'href': '/products/catalogue', 'text': 'Catalogue'}, {'href': '/products/tupperware-brochure', 'text': 'Consumer Brochure'}, {'href': '/products/recipes', 'text': 'Delicious Recipes'}, {'href': '/buy-tupperware', 'text': 'Buy Tupperware® Products'}, {'href': '/buy-tupperware/locate-a-direct-seller', 'text': 'Locate a Direct Seller'}, {'href': '/buy-tupperware/locate-a-tupperware-store', 'text': 'Locate a Tupperware Store'}, {'href': '/buy-tupperware/find-a-homeshop', 'text': 'Locate a HomeShop'}, {'href': '/buy-tupperware/shop-tupperware-online', 'text': 'Shop Tupperware Online'}, {'href': '/buy-tupperware/corporate-gifting-solutions', 'text': 'Corporate Gifting Solutions'}, {'href': '/business-opportunity', 'text': 'Business Opportunity'}, {'href': '/business-opportunity/become-a-direct-seller', 'text': 'Become a Direct Seller'}, {'href': '/business-opportunity/social-selling', 'text': 'Social Selling'}, {'href': '/business-opportunity/franchise-enquiry', 'text': 'Become a Store Franchisee'}, {'href': '/business-opportunity/become-a-direct-selling-distributor', 'text': 'Become a Direct Selling Distributor'}, {'href': '/business-opportunity/join-tupperware-now', 'text': 'Join Tupperware® Team'}, {'href': '/business-opportunity/tupperware-faqs', 'text': 'Tupperware® Opportunity FAQs'}, {'href': '/choose-good-every-day', 'text': 'Choose Good Every Day'}, {'href': '/contact-us', 'text': 'Contact Us'}, {'href': '/contact-us/careers', 'text': 'Careers'}, {'href': '/contact-us/institutional-sales', 'text': 'Institutional Sales'}, {'href': '/contact-us/feedback', 'text': 'Feedback'}, {'href': 'https://www.tupperwareindia.com/business-opportunity/join-tupperware-now', 'text': 'Become a Tupperware® Consultant'}, {'href': 'https://www.tupperwareindia.com/buy-tupperware/locate-a-direct-seller', 'text': 'Locate a Tupperware® Direct Seller'}, {'href': 'http://wishlist.tupperwareindia.com/LeadGeneration/BookNow.aspx', 'text': 'Subscribe to our newsletter'}, {'href': '/products/catalogue', 'text': 'Browse the catalogue'}, {'href': 'https://www.facebook.com/TupperwareIndia?ref=ts', 'text': ''}, {'href': 'https://twitter.com/tupperwarein', 'text': ''}, {'href': 'https://www.youtube.com/user/indiatupperwares', 'text': ''}, {'href': 'https://www.instagram.com/tupperware_india/?hl=en', 'text': ''}, {'href': 'https://www.linkedin.com/company/tupperware-india/', 'text': ''}, {'href': 'https://www.tupperwareindia.com/products/tupperware-brochure', 'text': ''}, {'href': '/about-tupperware-india', 'text': 'About us'}, {'href': '/privacy-pledge', 'text': 'Privacy Policy'}, {'href': '/terms-of-use', 'text': 'Terms of Use'}, {'href': '/help', 'text': 'Help'}, {'href': '/business-opportunity/tupperware-faqs', 'text': 'Tupperware® Opportunity FAQs'}, {'href': '/contact-us', 'text': 'Contact Us'}, {'href': '/contact-us/careers', 'text': 'Careers'}, {'href': 'javascript:void(0)', 'text': 'Top'}]\n"
          ]
        }
      ]
    },
    {
      "cell_type": "code",
      "source": [
        "import  requests\n",
        "from bs4 import BeautifulSoup\n",
        "weburl = requests.get(\"https://www.tupperwareindia.com/index\")\n",
        "\n",
        "soup = BeautifulSoup(weburl.content, 'html.parser')\n",
        "\n",
        "\n",
        "# Create top_items as empty list\n",
        "image_data = []\n",
        "\n",
        "# Extract and store in top_items according to instructions on the left\n",
        "images = soup.select('img')\n",
        "for image in images:\n",
        "    src = image.get('src')\n",
        "    alt = image.get('alt')\n",
        "    image_data.append({\"src\": src, \"alt\": alt})\n",
        "\n",
        "print(image_data)"
      ],
      "metadata": {
        "colab": {
          "base_uri": "https://localhost:8080/"
        },
        "id": "ALNvTBz311mf",
        "outputId": "e46b6374-49f1-4d87-ab70-afe1935070b2"
      },
      "execution_count": 9,
      "outputs": [
        {
          "output_type": "stream",
          "name": "stdout",
          "text": [
            "[{'src': '/assets/system_images/tupperware-logo-black_IN.png', 'alt': 'Logo'}, {'src': '/assets/system_images/tupperware-print-logo-black_IN.svg', 'alt': 'Logo'}, {'src': '/assets/images/Check%20Out%20the%20New%20Tupperware%c2%ae%20Products%20(1).png', 'alt': 'Check out the NEW Tupperware'}]\n"
          ]
        }
      ]
    }
  ]
}